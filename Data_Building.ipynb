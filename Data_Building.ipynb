{
 "cells": [
  {
   "cell_type": "markdown",
   "id": "8a406a12",
   "metadata": {},
   "source": [
    "## DDoS Attack Classification using ML and DL\n",
    "\n",
    "Dataset: http://dx.doi.org/10.17632/mfnn9bh42m.1#file-ba7d3a46-1dc3-452e-aeac-26d909389b29"
   ]
  },
  {
   "cell_type": "code",
   "execution_count": 1,
   "id": "18109010",
   "metadata": {},
   "outputs": [],
   "source": [
    "import numpy as np\n",
    "import pandas as pd\n",
    "import matplotlib.pyplot as plt\n",
    "import seaborn as sns\n",
    "\n",
    "%matplotlib inline"
   ]
  },
  {
   "cell_type": "code",
   "execution_count": 2,
   "id": "97acfdb8",
   "metadata": {},
   "outputs": [],
   "source": [
    "udp=pd.read_csv('./data/BOUN_UDP_Anon.csv')"
   ]
  },
  {
   "cell_type": "code",
   "execution_count": 5,
   "id": "ba50e60a",
   "metadata": {},
   "outputs": [
    {
     "data": {
      "text/html": [
       "<div>\n",
       "<style scoped>\n",
       "    .dataframe tbody tr th:only-of-type {\n",
       "        vertical-align: middle;\n",
       "    }\n",
       "\n",
       "    .dataframe tbody tr th {\n",
       "        vertical-align: top;\n",
       "    }\n",
       "\n",
       "    .dataframe thead th {\n",
       "        text-align: right;\n",
       "    }\n",
       "</style>\n",
       "<table border=\"1\" class=\"dataframe\">\n",
       "  <thead>\n",
       "    <tr style=\"text-align: right;\">\n",
       "      <th></th>\n",
       "      <th>Time</th>\n",
       "      <th>Frame Number</th>\n",
       "      <th>Frame_length</th>\n",
       "      <th>Source_ip</th>\n",
       "      <th>Destination_IP</th>\n",
       "      <th>Source_Port</th>\n",
       "      <th>Destination_Port</th>\n",
       "      <th>SYN</th>\n",
       "      <th>ACK</th>\n",
       "      <th>RST</th>\n",
       "      <th>TTL</th>\n",
       "      <th>TCP_Protocol</th>\n",
       "    </tr>\n",
       "  </thead>\n",
       "  <tbody>\n",
       "    <tr>\n",
       "      <th>0</th>\n",
       "      <td>0.000000</td>\n",
       "      <td>1</td>\n",
       "      <td>68</td>\n",
       "      <td>92.45.54.178</td>\n",
       "      <td>10.50.209.134</td>\n",
       "      <td>NaN</td>\n",
       "      <td>NaN</td>\n",
       "      <td>NaN</td>\n",
       "      <td>NaN</td>\n",
       "      <td>NaN</td>\n",
       "      <td>116</td>\n",
       "      <td>UDP</td>\n",
       "    </tr>\n",
       "    <tr>\n",
       "      <th>1</th>\n",
       "      <td>0.000218</td>\n",
       "      <td>2</td>\n",
       "      <td>900</td>\n",
       "      <td>10.50.197.6</td>\n",
       "      <td>31.13.84.8</td>\n",
       "      <td>49218.0</td>\n",
       "      <td>443.0</td>\n",
       "      <td>Not set</td>\n",
       "      <td>Set</td>\n",
       "      <td>Not set</td>\n",
       "      <td>127</td>\n",
       "      <td>TCP</td>\n",
       "    </tr>\n",
       "    <tr>\n",
       "      <th>2</th>\n",
       "      <td>0.000233</td>\n",
       "      <td>3</td>\n",
       "      <td>171</td>\n",
       "      <td>31.13.84.8</td>\n",
       "      <td>192.168.66.111</td>\n",
       "      <td>443.0</td>\n",
       "      <td>40991.0</td>\n",
       "      <td>Not set</td>\n",
       "      <td>Set</td>\n",
       "      <td>Not set</td>\n",
       "      <td>252,87</td>\n",
       "      <td>TCP</td>\n",
       "    </tr>\n",
       "    <tr>\n",
       "      <th>3</th>\n",
       "      <td>0.000235</td>\n",
       "      <td>4</td>\n",
       "      <td>1500</td>\n",
       "      <td>192.168.68.148</td>\n",
       "      <td>54.225.245.82</td>\n",
       "      <td>54602.0</td>\n",
       "      <td>443.0</td>\n",
       "      <td>Not set</td>\n",
       "      <td>Set</td>\n",
       "      <td>Not set</td>\n",
       "      <td>63,64</td>\n",
       "      <td>TCP</td>\n",
       "    </tr>\n",
       "    <tr>\n",
       "      <th>4</th>\n",
       "      <td>0.000466</td>\n",
       "      <td>5</td>\n",
       "      <td>126</td>\n",
       "      <td>192.168.79.128</td>\n",
       "      <td>64.15.113.173</td>\n",
       "      <td>55251.0</td>\n",
       "      <td>443.0</td>\n",
       "      <td>Not set</td>\n",
       "      <td>Set</td>\n",
       "      <td>Not set</td>\n",
       "      <td>63,64</td>\n",
       "      <td>TCP</td>\n",
       "    </tr>\n",
       "    <tr>\n",
       "      <th>...</th>\n",
       "      <td>...</td>\n",
       "      <td>...</td>\n",
       "      <td>...</td>\n",
       "      <td>...</td>\n",
       "      <td>...</td>\n",
       "      <td>...</td>\n",
       "      <td>...</td>\n",
       "      <td>...</td>\n",
       "      <td>...</td>\n",
       "      <td>...</td>\n",
       "      <td>...</td>\n",
       "      <td>...</td>\n",
       "    </tr>\n",
       "    <tr>\n",
       "      <th>8047330</th>\n",
       "      <td>484.638574</td>\n",
       "      <td>8047331</td>\n",
       "      <td>2978</td>\n",
       "      <td>79.123.178.64</td>\n",
       "      <td>167.114.91.218</td>\n",
       "      <td>3389.0</td>\n",
       "      <td>3403.0</td>\n",
       "      <td>Not set</td>\n",
       "      <td>Set</td>\n",
       "      <td>Not set</td>\n",
       "      <td>127</td>\n",
       "      <td>TCP</td>\n",
       "    </tr>\n",
       "    <tr>\n",
       "      <th>8047331</th>\n",
       "      <td>484.638728</td>\n",
       "      <td>8047332</td>\n",
       "      <td>2978</td>\n",
       "      <td>79.123.178.64</td>\n",
       "      <td>167.114.91.218</td>\n",
       "      <td>3389.0</td>\n",
       "      <td>3403.0</td>\n",
       "      <td>Not set</td>\n",
       "      <td>Set</td>\n",
       "      <td>Not set</td>\n",
       "      <td>127</td>\n",
       "      <td>TCP</td>\n",
       "    </tr>\n",
       "    <tr>\n",
       "      <th>8047332</th>\n",
       "      <td>484.638730</td>\n",
       "      <td>8047333</td>\n",
       "      <td>382</td>\n",
       "      <td>192.168.74.193</td>\n",
       "      <td>216.58.208.102</td>\n",
       "      <td>NaN</td>\n",
       "      <td>NaN</td>\n",
       "      <td>NaN</td>\n",
       "      <td>NaN</td>\n",
       "      <td>NaN</td>\n",
       "      <td>63,128</td>\n",
       "      <td>UDP</td>\n",
       "    </tr>\n",
       "    <tr>\n",
       "      <th>8047333</th>\n",
       "      <td>484.638731</td>\n",
       "      <td>8047334</td>\n",
       "      <td>144</td>\n",
       "      <td>78:dd:08:c4:2b:ff</td>\n",
       "      <td>Alcatel-_70:9b:c7</td>\n",
       "      <td>NaN</td>\n",
       "      <td>NaN</td>\n",
       "      <td>NaN</td>\n",
       "      <td>NaN</td>\n",
       "      <td>NaN</td>\n",
       "      <td>63</td>\n",
       "      <td>Generic Routing Encapsulation</td>\n",
       "    </tr>\n",
       "    <tr>\n",
       "      <th>8047334</th>\n",
       "      <td>484.638749</td>\n",
       "      <td>8047335</td>\n",
       "      <td>78</td>\n",
       "      <td>92.45.54.178</td>\n",
       "      <td>10.50.209.134</td>\n",
       "      <td>NaN</td>\n",
       "      <td>NaN</td>\n",
       "      <td>NaN</td>\n",
       "      <td>NaN</td>\n",
       "      <td>NaN</td>\n",
       "      <td>116</td>\n",
       "      <td>UDP</td>\n",
       "    </tr>\n",
       "  </tbody>\n",
       "</table>\n",
       "<p>8047335 rows × 12 columns</p>\n",
       "</div>"
      ],
      "text/plain": [
       "               Time  Frame Number  Frame_length          Source_ip  \\\n",
       "0          0.000000             1            68       92.45.54.178   \n",
       "1          0.000218             2           900        10.50.197.6   \n",
       "2          0.000233             3           171         31.13.84.8   \n",
       "3          0.000235             4          1500     192.168.68.148   \n",
       "4          0.000466             5           126     192.168.79.128   \n",
       "...             ...           ...           ...                ...   \n",
       "8047330  484.638574       8047331          2978      79.123.178.64   \n",
       "8047331  484.638728       8047332          2978      79.123.178.64   \n",
       "8047332  484.638730       8047333           382     192.168.74.193   \n",
       "8047333  484.638731       8047334           144  78:dd:08:c4:2b:ff   \n",
       "8047334  484.638749       8047335            78       92.45.54.178   \n",
       "\n",
       "            Destination_IP  Source_Port  Destination_Port      SYN  ACK  \\\n",
       "0            10.50.209.134          NaN               NaN      NaN  NaN   \n",
       "1               31.13.84.8      49218.0             443.0  Not set  Set   \n",
       "2           192.168.66.111        443.0           40991.0  Not set  Set   \n",
       "3            54.225.245.82      54602.0             443.0  Not set  Set   \n",
       "4            64.15.113.173      55251.0             443.0  Not set  Set   \n",
       "...                    ...          ...               ...      ...  ...   \n",
       "8047330     167.114.91.218       3389.0            3403.0  Not set  Set   \n",
       "8047331     167.114.91.218       3389.0            3403.0  Not set  Set   \n",
       "8047332     216.58.208.102          NaN               NaN      NaN  NaN   \n",
       "8047333  Alcatel-_70:9b:c7          NaN               NaN      NaN  NaN   \n",
       "8047334      10.50.209.134          NaN               NaN      NaN  NaN   \n",
       "\n",
       "             RST     TTL                   TCP_Protocol  \n",
       "0            NaN     116                            UDP  \n",
       "1        Not set     127                            TCP  \n",
       "2        Not set  252,87                            TCP  \n",
       "3        Not set   63,64                            TCP  \n",
       "4        Not set   63,64                            TCP  \n",
       "...          ...     ...                            ...  \n",
       "8047330  Not set     127                            TCP  \n",
       "8047331  Not set     127                            TCP  \n",
       "8047332      NaN  63,128                            UDP  \n",
       "8047333      NaN      63  Generic Routing Encapsulation  \n",
       "8047334      NaN     116                            UDP  \n",
       "\n",
       "[8047335 rows x 12 columns]"
      ]
     },
     "execution_count": 5,
     "metadata": {},
     "output_type": "execute_result"
    }
   ],
   "source": [
    "udp"
   ]
  },
  {
   "cell_type": "code",
   "execution_count": 4,
   "id": "80f98875",
   "metadata": {},
   "outputs": [],
   "source": [
    "attack1=udp[(udp['Time']>80.87054)&(udp['Time']<102.68198)]\n",
    "attack2=udp[(udp['Time']>180.94241)&(udp['Time']<203.55186)]\n",
    "attack3=udp[(udp['Time']>280.59444)&(udp['Time']<303.16265)]\n",
    "attack4=udp[(udp['Time']>381.01394)&(udp['Time']<403.65057)]"
   ]
  },
  {
   "cell_type": "code",
   "execution_count": null,
   "id": "a21e5048",
   "metadata": {},
   "outputs": [],
   "source": [
    "udp_attacks=pd.concat([attack1,attack2,attack3,attack4])"
   ]
  },
  {
   "cell_type": "code",
   "execution_count": null,
   "id": "b85820cf",
   "metadata": {},
   "outputs": [],
   "source": [
    "udp_attacks['Type']=\"UDP_ATTACK\""
   ]
  },
  {
   "cell_type": "code",
   "execution_count": null,
   "id": "670293e1",
   "metadata": {},
   "outputs": [],
   "source": [
    "udp_attacks"
   ]
  },
  {
   "cell_type": "code",
   "execution_count": null,
   "id": "9fbb92cb",
   "metadata": {},
   "outputs": [],
   "source": [
    "udp_benign=udp[(udp['Time']<70)]"
   ]
  },
  {
   "cell_type": "code",
   "execution_count": null,
   "id": "779bbb8c",
   "metadata": {},
   "outputs": [],
   "source": [
    "udp_benign['Type']=\"BENIGN\""
   ]
  },
  {
   "cell_type": "code",
   "execution_count": null,
   "id": "e31f4774",
   "metadata": {},
   "outputs": [],
   "source": [
    "udp_benign"
   ]
  },
  {
   "cell_type": "code",
   "execution_count": null,
   "id": "48c7b37e",
   "metadata": {},
   "outputs": [],
   "source": [
    "UDP_Flood_Data=pd.concat([udp_attacks,udp_benign])"
   ]
  },
  {
   "cell_type": "code",
   "execution_count": null,
   "id": "437ddb96",
   "metadata": {},
   "outputs": [],
   "source": [
    "UDP_Flood_Data.shape"
   ]
  },
  {
   "cell_type": "code",
   "execution_count": null,
   "id": "d4d2aed9",
   "metadata": {},
   "outputs": [],
   "source": [
    "tcp=pd.read_csv('./data/BOUN_TCP_Anon.csv')"
   ]
  },
  {
   "cell_type": "code",
   "execution_count": null,
   "id": "d2a264a8",
   "metadata": {},
   "outputs": [],
   "source": [
    "attack1=tcp[(tcp['Time']>80.22269)&(tcp['Time']<102.20233)]\n",
    "attack2=tcp[(tcp['Time']>180.17426)&(tcp['Time']<203.08441)]\n",
    "attack3=tcp[(tcp['Time']>279.97402)&(tcp['Time']<301.79111)]\n",
    "attack4=tcp[(tcp['Time']>380.10981)&(tcp['Time']<402.35755)]"
   ]
  },
  {
   "cell_type": "code",
   "execution_count": null,
   "id": "bd682d9a",
   "metadata": {},
   "outputs": [],
   "source": [
    "tcp_attacks=pd.concat([attack1,attack2,attack3,attack4])\n",
    "tcp_attacks['Type']=\"TCP_ATTACK\""
   ]
  },
  {
   "cell_type": "code",
   "execution_count": null,
   "id": "22a8c84a",
   "metadata": {},
   "outputs": [],
   "source": [
    "tcp_benign=tcp[tcp['Time']>420]"
   ]
  },
  {
   "cell_type": "code",
   "execution_count": null,
   "id": "674e5b5c",
   "metadata": {},
   "outputs": [],
   "source": [
    "tcp_benign['Type']=\"BENIGN\""
   ]
  },
  {
   "cell_type": "code",
   "execution_count": null,
   "id": "a3b0abe5",
   "metadata": {},
   "outputs": [],
   "source": [
    "tcp_benign"
   ]
  },
  {
   "cell_type": "code",
   "execution_count": null,
   "id": "b08a6fd1",
   "metadata": {},
   "outputs": [],
   "source": [
    "TCP_SYN_Data=pd.concat([tcp_attacks,tcp_benign])"
   ]
  },
  {
   "cell_type": "code",
   "execution_count": null,
   "id": "4346b877",
   "metadata": {},
   "outputs": [],
   "source": [
    "sns.countplot(TCP_SYN_Data['Type'])"
   ]
  },
  {
   "cell_type": "code",
   "execution_count": null,
   "id": "d7d00d6c",
   "metadata": {},
   "outputs": [],
   "source": [
    "sns.countplot(UDP_Flood_Data['Type'])"
   ]
  },
  {
   "cell_type": "code",
   "execution_count": null,
   "id": "4ef25e4c",
   "metadata": {},
   "outputs": [],
   "source": [
    "TCP_SYN_Data.to_csv('./data/TCP_SYN_DATA.csv')\n",
    "UDP_Flood_Data.to_csv('./data/UDP_FLOOD_DATA.csv')"
   ]
  },
  {
   "cell_type": "code",
   "execution_count": null,
   "id": "3345c26b",
   "metadata": {},
   "outputs": [],
   "source": [
    "final_df=pd.concat([TCP_SYN_Data,UDP_Flood_Data])"
   ]
  },
  {
   "cell_type": "code",
   "execution_count": null,
   "id": "2f671334",
   "metadata": {},
   "outputs": [],
   "source": [
    "sns.countplot(final_df['Type'])"
   ]
  },
  {
   "cell_type": "code",
   "execution_count": null,
   "id": "fbd48ff2",
   "metadata": {},
   "outputs": [],
   "source": [
    "final_df.to_csv('./data/DDoS_Attack_Dataset.csv')"
   ]
  },
  {
   "cell_type": "code",
   "execution_count": null,
   "id": "a4944e6c",
   "metadata": {},
   "outputs": [],
   "source": []
  }
 ],
 "metadata": {
  "kernelspec": {
   "display_name": "Python 3 (ipykernel)",
   "language": "python",
   "name": "python3"
  },
  "language_info": {
   "codemirror_mode": {
    "name": "ipython",
    "version": 3
   },
   "file_extension": ".py",
   "mimetype": "text/x-python",
   "name": "python",
   "nbconvert_exporter": "python",
   "pygments_lexer": "ipython3",
   "version": "3.9.5"
  }
 },
 "nbformat": 4,
 "nbformat_minor": 5
}
