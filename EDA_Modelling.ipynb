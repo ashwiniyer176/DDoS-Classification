{
 "cells": [
  {
   "cell_type": "code",
   "execution_count": 1,
   "id": "4bda08d2",
   "metadata": {},
   "outputs": [],
   "source": [
    "import numpy as np\n",
    "import pandas as pd\n",
    "import matplotlib.pyplot as plt\n",
    "import seaborn as sns\n",
    "\n",
    "%matplotlib inline"
   ]
  },
  {
   "cell_type": "code",
   "execution_count": 2,
   "id": "a450af92",
   "metadata": {},
   "outputs": [],
   "source": [
    "df=pd.read_csv('./data/DDoS_Attack_Dataset.csv')"
   ]
  },
  {
   "cell_type": "code",
   "execution_count": 127,
   "id": "17a0a122",
   "metadata": {},
   "outputs": [
    {
     "data": {
      "text/html": [
       "<div>\n",
       "<style scoped>\n",
       "    .dataframe tbody tr th:only-of-type {\n",
       "        vertical-align: middle;\n",
       "    }\n",
       "\n",
       "    .dataframe tbody tr th {\n",
       "        vertical-align: top;\n",
       "    }\n",
       "\n",
       "    .dataframe thead th {\n",
       "        text-align: right;\n",
       "    }\n",
       "</style>\n",
       "<table border=\"1\" class=\"dataframe\">\n",
       "  <thead>\n",
       "    <tr style=\"text-align: right;\">\n",
       "      <th></th>\n",
       "      <th>Time</th>\n",
       "      <th>Frame Number</th>\n",
       "      <th>Frame_length</th>\n",
       "      <th>Source_ip</th>\n",
       "      <th>Destination_IP</th>\n",
       "      <th>SYN</th>\n",
       "      <th>ACK</th>\n",
       "      <th>RST</th>\n",
       "      <th>TTL</th>\n",
       "      <th>TCP_Protocol</th>\n",
       "      <th>Type</th>\n",
       "      <th>Has_Port</th>\n",
       "      <th>Has_Protocol</th>\n",
       "    </tr>\n",
       "  </thead>\n",
       "  <tbody>\n",
       "    <tr>\n",
       "      <th>0</th>\n",
       "      <td>80.222740</td>\n",
       "      <td>1945582</td>\n",
       "      <td>114</td>\n",
       "      <td>192.168.74.8</td>\n",
       "      <td>31.13.84.15</td>\n",
       "      <td>0</td>\n",
       "      <td>1</td>\n",
       "      <td>0</td>\n",
       "      <td>63,128</td>\n",
       "      <td>0</td>\n",
       "      <td>2</td>\n",
       "      <td>1</td>\n",
       "      <td>1</td>\n",
       "    </tr>\n",
       "    <tr>\n",
       "      <th>1</th>\n",
       "      <td>80.222756</td>\n",
       "      <td>1945583</td>\n",
       "      <td>64</td>\n",
       "      <td>54.231.184.9</td>\n",
       "      <td>192.168.104.13</td>\n",
       "      <td>0</td>\n",
       "      <td>1</td>\n",
       "      <td>0</td>\n",
       "      <td>32</td>\n",
       "      <td>0</td>\n",
       "      <td>2</td>\n",
       "      <td>1</td>\n",
       "      <td>1</td>\n",
       "    </tr>\n",
       "    <tr>\n",
       "      <th>2</th>\n",
       "      <td>80.222931</td>\n",
       "      <td>1945584</td>\n",
       "      <td>182</td>\n",
       "      <td>10.50.195.28</td>\n",
       "      <td>185.25.182.226</td>\n",
       "      <td>-1</td>\n",
       "      <td>-1</td>\n",
       "      <td>-1</td>\n",
       "      <td>127</td>\n",
       "      <td>1</td>\n",
       "      <td>2</td>\n",
       "      <td>0</td>\n",
       "      <td>1</td>\n",
       "    </tr>\n",
       "    <tr>\n",
       "      <th>3</th>\n",
       "      <td>80.223200</td>\n",
       "      <td>1945585</td>\n",
       "      <td>68</td>\n",
       "      <td>92.45.54.178</td>\n",
       "      <td>10.50.209.134</td>\n",
       "      <td>-1</td>\n",
       "      <td>-1</td>\n",
       "      <td>-1</td>\n",
       "      <td>116</td>\n",
       "      <td>1</td>\n",
       "      <td>2</td>\n",
       "      <td>0</td>\n",
       "      <td>1</td>\n",
       "    </tr>\n",
       "    <tr>\n",
       "      <th>4</th>\n",
       "      <td>80.223217</td>\n",
       "      <td>1945586</td>\n",
       "      <td>114</td>\n",
       "      <td>192.168.74.8</td>\n",
       "      <td>31.13.84.15</td>\n",
       "      <td>0</td>\n",
       "      <td>1</td>\n",
       "      <td>0</td>\n",
       "      <td>63,128</td>\n",
       "      <td>0</td>\n",
       "      <td>2</td>\n",
       "      <td>1</td>\n",
       "      <td>1</td>\n",
       "    </tr>\n",
       "    <tr>\n",
       "      <th>...</th>\n",
       "      <td>...</td>\n",
       "      <td>...</td>\n",
       "      <td>...</td>\n",
       "      <td>...</td>\n",
       "      <td>...</td>\n",
       "      <td>...</td>\n",
       "      <td>...</td>\n",
       "      <td>...</td>\n",
       "      <td>...</td>\n",
       "      <td>...</td>\n",
       "      <td>...</td>\n",
       "      <td>...</td>\n",
       "      <td>...</td>\n",
       "    </tr>\n",
       "    <tr>\n",
       "      <th>5382976</th>\n",
       "      <td>69.999327</td>\n",
       "      <td>894387</td>\n",
       "      <td>91</td>\n",
       "      <td>79.123.178.90</td>\n",
       "      <td>74.125.11.166</td>\n",
       "      <td>-1</td>\n",
       "      <td>-1</td>\n",
       "      <td>-1</td>\n",
       "      <td>127</td>\n",
       "      <td>1</td>\n",
       "      <td>0</td>\n",
       "      <td>0</td>\n",
       "      <td>1</td>\n",
       "    </tr>\n",
       "    <tr>\n",
       "      <th>5382977</th>\n",
       "      <td>69.999353</td>\n",
       "      <td>894388</td>\n",
       "      <td>126</td>\n",
       "      <td>192.168.76.223</td>\n",
       "      <td>104.244.43.7</td>\n",
       "      <td>0</td>\n",
       "      <td>1</td>\n",
       "      <td>0</td>\n",
       "      <td>63,64</td>\n",
       "      <td>0</td>\n",
       "      <td>0</td>\n",
       "      <td>1</td>\n",
       "      <td>1</td>\n",
       "    </tr>\n",
       "    <tr>\n",
       "      <th>5382978</th>\n",
       "      <td>69.999464</td>\n",
       "      <td>894389</td>\n",
       "      <td>91</td>\n",
       "      <td>79.123.178.90</td>\n",
       "      <td>74.125.11.166</td>\n",
       "      <td>-1</td>\n",
       "      <td>-1</td>\n",
       "      <td>-1</td>\n",
       "      <td>127</td>\n",
       "      <td>1</td>\n",
       "      <td>0</td>\n",
       "      <td>0</td>\n",
       "      <td>1</td>\n",
       "    </tr>\n",
       "    <tr>\n",
       "      <th>5382979</th>\n",
       "      <td>69.999583</td>\n",
       "      <td>894390</td>\n",
       "      <td>126</td>\n",
       "      <td>192.168.64.10</td>\n",
       "      <td>46.20.153.2</td>\n",
       "      <td>0</td>\n",
       "      <td>1</td>\n",
       "      <td>0</td>\n",
       "      <td>63,64</td>\n",
       "      <td>0</td>\n",
       "      <td>0</td>\n",
       "      <td>1</td>\n",
       "      <td>1</td>\n",
       "    </tr>\n",
       "    <tr>\n",
       "      <th>5382980</th>\n",
       "      <td>69.999873</td>\n",
       "      <td>894391</td>\n",
       "      <td>126</td>\n",
       "      <td>192.168.76.223</td>\n",
       "      <td>104.244.43.7</td>\n",
       "      <td>0</td>\n",
       "      <td>1</td>\n",
       "      <td>0</td>\n",
       "      <td>63,64</td>\n",
       "      <td>0</td>\n",
       "      <td>0</td>\n",
       "      <td>1</td>\n",
       "      <td>1</td>\n",
       "    </tr>\n",
       "  </tbody>\n",
       "</table>\n",
       "<p>5381104 rows × 13 columns</p>\n",
       "</div>"
      ],
      "text/plain": [
       "              Time  Frame Number  Frame_length       Source_ip  \\\n",
       "0        80.222740       1945582           114    192.168.74.8   \n",
       "1        80.222756       1945583            64    54.231.184.9   \n",
       "2        80.222931       1945584           182    10.50.195.28   \n",
       "3        80.223200       1945585            68    92.45.54.178   \n",
       "4        80.223217       1945586           114    192.168.74.8   \n",
       "...            ...           ...           ...             ...   \n",
       "5382976  69.999327        894387            91   79.123.178.90   \n",
       "5382977  69.999353        894388           126  192.168.76.223   \n",
       "5382978  69.999464        894389            91   79.123.178.90   \n",
       "5382979  69.999583        894390           126   192.168.64.10   \n",
       "5382980  69.999873        894391           126  192.168.76.223   \n",
       "\n",
       "         Destination_IP  SYN  ACK  RST     TTL  TCP_Protocol  Type  Has_Port  \\\n",
       "0           31.13.84.15    0    1    0  63,128             0     2         1   \n",
       "1        192.168.104.13    0    1    0      32             0     2         1   \n",
       "2        185.25.182.226   -1   -1   -1     127             1     2         0   \n",
       "3         10.50.209.134   -1   -1   -1     116             1     2         0   \n",
       "4           31.13.84.15    0    1    0  63,128             0     2         1   \n",
       "...                 ...  ...  ...  ...     ...           ...   ...       ...   \n",
       "5382976   74.125.11.166   -1   -1   -1     127             1     0         0   \n",
       "5382977    104.244.43.7    0    1    0   63,64             0     0         1   \n",
       "5382978   74.125.11.166   -1   -1   -1     127             1     0         0   \n",
       "5382979     46.20.153.2    0    1    0   63,64             0     0         1   \n",
       "5382980    104.244.43.7    0    1    0   63,64             0     0         1   \n",
       "\n",
       "         Has_Protocol  \n",
       "0                   1  \n",
       "1                   1  \n",
       "2                   1  \n",
       "3                   1  \n",
       "4                   1  \n",
       "...               ...  \n",
       "5382976             1  \n",
       "5382977             1  \n",
       "5382978             1  \n",
       "5382979             1  \n",
       "5382980             1  \n",
       "\n",
       "[5381104 rows x 13 columns]"
      ]
     },
     "execution_count": 127,
     "metadata": {},
     "output_type": "execute_result"
    }
   ],
   "source": [
    "df"
   ]
  },
  {
   "cell_type": "code",
   "execution_count": 4,
   "id": "4ac96efe",
   "metadata": {},
   "outputs": [
    {
     "data": {
      "text/plain": [
       "(5382981, 14)"
      ]
     },
     "execution_count": 4,
     "metadata": {},
     "output_type": "execute_result"
    }
   ],
   "source": [
    "df.shape"
   ]
  },
  {
   "cell_type": "code",
   "execution_count": 5,
   "id": "a24ae2b0",
   "metadata": {},
   "outputs": [
    {
     "data": {
      "text/plain": [
       "Unnamed: 0           0.000000\n",
       "Time                 0.000000\n",
       "Frame Number         0.000000\n",
       "Frame_length         0.000000\n",
       "Source_ip            0.000000\n",
       "Destination_IP       0.000000\n",
       "Source_Port         45.860816\n",
       "Destination_Port    45.860816\n",
       "SYN                 45.861132\n",
       "ACK                 45.861132\n",
       "RST                 45.861132\n",
       "TTL                  0.386552\n",
       "TCP_Protocol         0.386552\n",
       "Type                 0.000000\n",
       "dtype: float64"
      ]
     },
     "execution_count": 5,
     "metadata": {},
     "output_type": "execute_result"
    }
   ],
   "source": [
    "df.isnull().sum()/df.shape[0]*100"
   ]
  },
  {
   "cell_type": "markdown",
   "id": "373fe3ba",
   "metadata": {},
   "source": [
    "We have the same number of missing values for features Source_Port and Destination_Port. The same trend is seen in SYN, ACK and RST. "
   ]
  },
  {
   "cell_type": "code",
   "execution_count": 6,
   "id": "2dbc0b39",
   "metadata": {},
   "outputs": [],
   "source": [
    "df.drop(\"Unnamed: 0\",axis=1,inplace=True)"
   ]
  },
  {
   "cell_type": "code",
   "execution_count": 7,
   "id": "c3dea905",
   "metadata": {},
   "outputs": [
    {
     "data": {
      "text/plain": [
       "NaN        2468679\n",
       "80.0        707480\n",
       "443.0       615996\n",
       "445.0        41000\n",
       "49532.0      33902\n",
       "            ...   \n",
       "39700.0          1\n",
       "60368.0          1\n",
       "62860.0          1\n",
       "34644.0          1\n",
       "64147.0          1\n",
       "Name: Destination_Port, Length: 22252, dtype: int64"
      ]
     },
     "execution_count": 7,
     "metadata": {},
     "output_type": "execute_result"
    }
   ],
   "source": [
    "df['Destination_Port'].value_counts(dropna=False)"
   ]
  },
  {
   "cell_type": "code",
   "execution_count": 8,
   "id": "3814fa57",
   "metadata": {},
   "outputs": [
    {
     "name": "stderr",
     "output_type": "stream",
     "text": [
      "c:\\users\\ashwin\\miniconda3\\lib\\site-packages\\pandas\\core\\frame.py:5171: SettingWithCopyWarning: \n",
      "A value is trying to be set on a copy of a slice from a DataFrame\n",
      "\n",
      "See the caveats in the documentation: https://pandas.pydata.org/pandas-docs/stable/user_guide/indexing.html#returning-a-view-versus-a-copy\n",
      "  return super().fillna(\n"
     ]
    }
   ],
   "source": [
    "df[['SYN','ACK','RST']].fillna('NaN',inplace=True)"
   ]
  },
  {
   "cell_type": "code",
   "execution_count": 9,
   "id": "91332694",
   "metadata": {},
   "outputs": [
    {
     "data": {
      "text/html": [
       "<div>\n",
       "<style scoped>\n",
       "    .dataframe tbody tr th:only-of-type {\n",
       "        vertical-align: middle;\n",
       "    }\n",
       "\n",
       "    .dataframe tbody tr th {\n",
       "        vertical-align: top;\n",
       "    }\n",
       "\n",
       "    .dataframe thead th {\n",
       "        text-align: right;\n",
       "    }\n",
       "</style>\n",
       "<table border=\"1\" class=\"dataframe\">\n",
       "  <thead>\n",
       "    <tr style=\"text-align: right;\">\n",
       "      <th></th>\n",
       "      <th>Time</th>\n",
       "      <th>Frame Number</th>\n",
       "      <th>Frame_length</th>\n",
       "      <th>Source_Port</th>\n",
       "      <th>Destination_Port</th>\n",
       "    </tr>\n",
       "  </thead>\n",
       "  <tbody>\n",
       "    <tr>\n",
       "      <th>count</th>\n",
       "      <td>5.382981e+06</td>\n",
       "      <td>5.382981e+06</td>\n",
       "      <td>5.382981e+06</td>\n",
       "      <td>2.914302e+06</td>\n",
       "      <td>2.914302e+06</td>\n",
       "    </tr>\n",
       "    <tr>\n",
       "      <th>mean</th>\n",
       "      <td>2.589057e+02</td>\n",
       "      <td>4.719064e+06</td>\n",
       "      <td>7.366361e+02</td>\n",
       "      <td>2.588251e+04</td>\n",
       "      <td>2.483453e+04</td>\n",
       "    </tr>\n",
       "    <tr>\n",
       "      <th>std</th>\n",
       "      <td>1.551605e+02</td>\n",
       "      <td>3.015342e+06</td>\n",
       "      <td>1.164071e+03</td>\n",
       "      <td>2.634311e+04</td>\n",
       "      <td>2.660856e+04</td>\n",
       "    </tr>\n",
       "    <tr>\n",
       "      <th>min</th>\n",
       "      <td>0.000000e+00</td>\n",
       "      <td>1.000000e+00</td>\n",
       "      <td>6.000000e+01</td>\n",
       "      <td>2.100000e+01</td>\n",
       "      <td>2.000000e+00</td>\n",
       "    </tr>\n",
       "    <tr>\n",
       "      <th>25%</th>\n",
       "      <td>9.514303e+01</td>\n",
       "      <td>2.090838e+06</td>\n",
       "      <td>7.000000e+01</td>\n",
       "      <td>4.430000e+02</td>\n",
       "      <td>8.000000e+01</td>\n",
       "    </tr>\n",
       "    <tr>\n",
       "      <th>50%</th>\n",
       "      <td>2.869026e+02</td>\n",
       "      <td>4.488226e+06</td>\n",
       "      <td>1.380000e+02</td>\n",
       "      <td>9.650000e+03</td>\n",
       "      <td>2.452000e+03</td>\n",
       "    </tr>\n",
       "    <tr>\n",
       "      <th>75%</th>\n",
       "      <td>3.980190e+02</td>\n",
       "      <td>7.685786e+06</td>\n",
       "      <td>1.396000e+03</td>\n",
       "      <td>5.195500e+04</td>\n",
       "      <td>5.196600e+04</td>\n",
       "    </tr>\n",
       "    <tr>\n",
       "      <th>max</th>\n",
       "      <td>4.826629e+02</td>\n",
       "      <td>9.335605e+06</td>\n",
       "      <td>2.487800e+04</td>\n",
       "      <td>6.553400e+04</td>\n",
       "      <td>6.553400e+04</td>\n",
       "    </tr>\n",
       "  </tbody>\n",
       "</table>\n",
       "</div>"
      ],
      "text/plain": [
       "               Time  Frame Number  Frame_length   Source_Port  \\\n",
       "count  5.382981e+06  5.382981e+06  5.382981e+06  2.914302e+06   \n",
       "mean   2.589057e+02  4.719064e+06  7.366361e+02  2.588251e+04   \n",
       "std    1.551605e+02  3.015342e+06  1.164071e+03  2.634311e+04   \n",
       "min    0.000000e+00  1.000000e+00  6.000000e+01  2.100000e+01   \n",
       "25%    9.514303e+01  2.090838e+06  7.000000e+01  4.430000e+02   \n",
       "50%    2.869026e+02  4.488226e+06  1.380000e+02  9.650000e+03   \n",
       "75%    3.980190e+02  7.685786e+06  1.396000e+03  5.195500e+04   \n",
       "max    4.826629e+02  9.335605e+06  2.487800e+04  6.553400e+04   \n",
       "\n",
       "       Destination_Port  \n",
       "count      2.914302e+06  \n",
       "mean       2.483453e+04  \n",
       "std        2.660856e+04  \n",
       "min        2.000000e+00  \n",
       "25%        8.000000e+01  \n",
       "50%        2.452000e+03  \n",
       "75%        5.196600e+04  \n",
       "max        6.553400e+04  "
      ]
     },
     "execution_count": 9,
     "metadata": {},
     "output_type": "execute_result"
    }
   ],
   "source": [
    "df.describe()"
   ]
  },
  {
   "cell_type": "code",
   "execution_count": 10,
   "id": "06967d01",
   "metadata": {},
   "outputs": [
    {
     "data": {
      "text/plain": [
       "<AxesSubplot:xlabel='Type', ylabel='Frame Number'>"
      ]
     },
     "execution_count": 10,
     "metadata": {},
     "output_type": "execute_result"
    },
    {
     "data": {
      "image/png": "[encoded data removed]",
      "text/plain": [
       "<Figure size 432x288 with 1 Axes>"
      ]
     },
     "metadata": {
      "needs_background": "light"
     },
     "output_type": "display_data"
    }
   ],
   "source": [
    "sns.boxplot(x=df['Type'],y=df['Frame Number'])"
   ]
  },
  {
   "cell_type": "code",
   "execution_count": 11,
   "id": "9f945042",
   "metadata": {},
   "outputs": [
    {
     "data": {
      "text/plain": [
       "True"
      ]
     },
     "execution_count": 11,
     "metadata": {},
     "output_type": "execute_result"
    }
   ],
   "source": [
    "df['SYN'].factorize()[0].all()==df['ACK'].factorize()[0].all()"
   ]
  },
  {
   "cell_type": "code",
   "execution_count": 12,
   "id": "bd280a97",
   "metadata": {},
   "outputs": [
    {
     "data": {
      "text/plain": [
       "Time                      0\n",
       "Frame Number              0\n",
       "Frame_length              0\n",
       "Source_ip                 0\n",
       "Destination_IP            0\n",
       "Source_Port         2468679\n",
       "Destination_Port    2468679\n",
       "SYN                 2468696\n",
       "ACK                 2468696\n",
       "RST                 2468696\n",
       "TTL                   20808\n",
       "TCP_Protocol          20808\n",
       "Type                      0\n",
       "dtype: int64"
      ]
     },
     "execution_count": 12,
     "metadata": {},
     "output_type": "execute_result"
    }
   ],
   "source": [
    "df.isnull().sum()"
   ]
  },
  {
   "cell_type": "code",
   "execution_count": 13,
   "id": "83e1574f",
   "metadata": {},
   "outputs": [
    {
     "data": {
      "text/plain": [
       "True"
      ]
     },
     "execution_count": 13,
     "metadata": {},
     "output_type": "execute_result"
    }
   ],
   "source": [
    "df['SYN'].all()==df['RST'].all()"
   ]
  },
  {
   "cell_type": "code",
   "execution_count": 14,
   "id": "e1e80493",
   "metadata": {},
   "outputs": [
    {
     "data": {
      "text/plain": [
       "array(['Set', nan, 'Not set'], dtype=object)"
      ]
     },
     "execution_count": 14,
     "metadata": {},
     "output_type": "execute_result"
    }
   ],
   "source": [
    "df['ACK'].unique()"
   ]
  },
  {
   "cell_type": "code",
   "execution_count": 15,
   "id": "19b2a94f",
   "metadata": {},
   "outputs": [],
   "source": [
    "df['ACK'].fillna('NaN',inplace=True)\n",
    "df['ACK'].replace({'Set':1,'Not set':0,'NaN':-1},inplace=True)"
   ]
  },
  {
   "cell_type": "code",
   "execution_count": 16,
   "id": "bbe7940e",
   "metadata": {},
   "outputs": [],
   "source": [
    "df['Type'].replace({'TCP_ATTACK':2,'UDP_ATTACK':1,'BENIGN':0},inplace=True)\n",
    "df['SYN']=df['SYN'].factorize()[0]\n",
    "df['RST']=df['RST'].factorize()[0]"
   ]
  },
  {
   "cell_type": "code",
   "execution_count": 17,
   "id": "205faf23",
   "metadata": {},
   "outputs": [
    {
     "data": {
      "text/plain": [
       "True"
      ]
     },
     "execution_count": 17,
     "metadata": {},
     "output_type": "execute_result"
    }
   ],
   "source": [
    "(df['SYN'].all()==df['ACK'].all()) & (df['SYN'].all()==df['RST'].all())"
   ]
  },
  {
   "cell_type": "markdown",
   "id": "56d88caf",
   "metadata": {},
   "source": [
    "Hence, we see that SYN, ACK and RST are all columns which are providing us the same information. It is best to choose only one of the three and proceed. This makes sense with our previous observation that the number of missing values were the same for all the columns."
   ]
  },
  {
   "cell_type": "code",
   "execution_count": 18,
   "id": "3b51dc05",
   "metadata": {},
   "outputs": [
    {
     "data": {
      "text/plain": [
       "0.08817963449048995"
      ]
     },
     "execution_count": 18,
     "metadata": {},
     "output_type": "execute_result"
    }
   ],
   "source": [
    "df['Type'].corr(df['SYN'])"
   ]
  },
  {
   "cell_type": "code",
   "execution_count": 19,
   "id": "9836a331",
   "metadata": {},
   "outputs": [
    {
     "data": {
      "text/html": [
       "<div>\n",
       "<style scoped>\n",
       "    .dataframe tbody tr th:only-of-type {\n",
       "        vertical-align: middle;\n",
       "    }\n",
       "\n",
       "    .dataframe tbody tr th {\n",
       "        vertical-align: top;\n",
       "    }\n",
       "\n",
       "    .dataframe thead th {\n",
       "        text-align: right;\n",
       "    }\n",
       "</style>\n",
       "<table border=\"1\" class=\"dataframe\">\n",
       "  <thead>\n",
       "    <tr style=\"text-align: right;\">\n",
       "      <th></th>\n",
       "      <th>Time</th>\n",
       "      <th>Frame Number</th>\n",
       "      <th>Frame_length</th>\n",
       "      <th>Source_Port</th>\n",
       "      <th>Destination_Port</th>\n",
       "      <th>SYN</th>\n",
       "      <th>ACK</th>\n",
       "      <th>RST</th>\n",
       "      <th>Type</th>\n",
       "    </tr>\n",
       "  </thead>\n",
       "  <tbody>\n",
       "    <tr>\n",
       "      <th>Time</th>\n",
       "      <td>1.000000</td>\n",
       "      <td>0.982472</td>\n",
       "      <td>0.005519</td>\n",
       "      <td>0.013995</td>\n",
       "      <td>0.016203</td>\n",
       "      <td>0.103933</td>\n",
       "      <td>0.113025</td>\n",
       "      <td>0.111350</td>\n",
       "      <td>-0.066151</td>\n",
       "    </tr>\n",
       "    <tr>\n",
       "      <th>Frame Number</th>\n",
       "      <td>0.982472</td>\n",
       "      <td>1.000000</td>\n",
       "      <td>0.012259</td>\n",
       "      <td>0.012584</td>\n",
       "      <td>0.016584</td>\n",
       "      <td>0.134844</td>\n",
       "      <td>0.135870</td>\n",
       "      <td>0.137606</td>\n",
       "      <td>-0.031491</td>\n",
       "    </tr>\n",
       "    <tr>\n",
       "      <th>Frame_length</th>\n",
       "      <td>0.005519</td>\n",
       "      <td>0.012259</td>\n",
       "      <td>1.000000</td>\n",
       "      <td>-0.258440</td>\n",
       "      <td>0.291558</td>\n",
       "      <td>0.108666</td>\n",
       "      <td>0.181767</td>\n",
       "      <td>0.156560</td>\n",
       "      <td>-0.018626</td>\n",
       "    </tr>\n",
       "    <tr>\n",
       "      <th>Source_Port</th>\n",
       "      <td>0.013995</td>\n",
       "      <td>0.012584</td>\n",
       "      <td>-0.258440</td>\n",
       "      <td>1.000000</td>\n",
       "      <td>-0.828630</td>\n",
       "      <td>-0.026449</td>\n",
       "      <td>-0.010306</td>\n",
       "      <td>0.010636</td>\n",
       "      <td>-0.015181</td>\n",
       "    </tr>\n",
       "    <tr>\n",
       "      <th>Destination_Port</th>\n",
       "      <td>0.016203</td>\n",
       "      <td>0.016584</td>\n",
       "      <td>0.291558</td>\n",
       "      <td>-0.828630</td>\n",
       "      <td>1.000000</td>\n",
       "      <td>-0.163014</td>\n",
       "      <td>0.209618</td>\n",
       "      <td>-0.022244</td>\n",
       "      <td>-0.025679</td>\n",
       "    </tr>\n",
       "    <tr>\n",
       "      <th>SYN</th>\n",
       "      <td>0.103933</td>\n",
       "      <td>0.134844</td>\n",
       "      <td>0.108666</td>\n",
       "      <td>-0.026449</td>\n",
       "      <td>-0.163014</td>\n",
       "      <td>1.000000</td>\n",
       "      <td>0.882666</td>\n",
       "      <td>0.941284</td>\n",
       "      <td>0.088180</td>\n",
       "    </tr>\n",
       "    <tr>\n",
       "      <th>ACK</th>\n",
       "      <td>0.113025</td>\n",
       "      <td>0.135870</td>\n",
       "      <td>0.181767</td>\n",
       "      <td>-0.010306</td>\n",
       "      <td>0.209618</td>\n",
       "      <td>0.882666</td>\n",
       "      <td>1.000000</td>\n",
       "      <td>0.976447</td>\n",
       "      <td>0.010508</td>\n",
       "    </tr>\n",
       "    <tr>\n",
       "      <th>RST</th>\n",
       "      <td>0.111350</td>\n",
       "      <td>0.137606</td>\n",
       "      <td>0.156560</td>\n",
       "      <td>0.010636</td>\n",
       "      <td>-0.022244</td>\n",
       "      <td>0.941284</td>\n",
       "      <td>0.976447</td>\n",
       "      <td>1.000000</td>\n",
       "      <td>0.038935</td>\n",
       "    </tr>\n",
       "    <tr>\n",
       "      <th>Type</th>\n",
       "      <td>-0.066151</td>\n",
       "      <td>-0.031491</td>\n",
       "      <td>-0.018626</td>\n",
       "      <td>-0.015181</td>\n",
       "      <td>-0.025679</td>\n",
       "      <td>0.088180</td>\n",
       "      <td>0.010508</td>\n",
       "      <td>0.038935</td>\n",
       "      <td>1.000000</td>\n",
       "    </tr>\n",
       "  </tbody>\n",
       "</table>\n",
       "</div>"
      ],
      "text/plain": [
       "                      Time  Frame Number  Frame_length  Source_Port  \\\n",
       "Time              1.000000      0.982472      0.005519     0.013995   \n",
       "Frame Number      0.982472      1.000000      0.012259     0.012584   \n",
       "Frame_length      0.005519      0.012259      1.000000    -0.258440   \n",
       "Source_Port       0.013995      0.012584     -0.258440     1.000000   \n",
       "Destination_Port  0.016203      0.016584      0.291558    -0.828630   \n",
       "SYN               0.103933      0.134844      0.108666    -0.026449   \n",
       "ACK               0.113025      0.135870      0.181767    -0.010306   \n",
       "RST               0.111350      0.137606      0.156560     0.010636   \n",
       "Type             -0.066151     -0.031491     -0.018626    -0.015181   \n",
       "\n",
       "                  Destination_Port       SYN       ACK       RST      Type  \n",
       "Time                      0.016203  0.103933  0.113025  0.111350 -0.066151  \n",
       "Frame Number              0.016584  0.134844  0.135870  0.137606 -0.031491  \n",
       "Frame_length              0.291558  0.108666  0.181767  0.156560 -0.018626  \n",
       "Source_Port              -0.828630 -0.026449 -0.010306  0.010636 -0.015181  \n",
       "Destination_Port          1.000000 -0.163014  0.209618 -0.022244 -0.025679  \n",
       "SYN                      -0.163014  1.000000  0.882666  0.941284  0.088180  \n",
       "ACK                       0.209618  0.882666  1.000000  0.976447  0.010508  \n",
       "RST                      -0.022244  0.941284  0.976447  1.000000  0.038935  \n",
       "Type                     -0.025679  0.088180  0.010508  0.038935  1.000000  "
      ]
     },
     "execution_count": 19,
     "metadata": {},
     "output_type": "execute_result"
    }
   ],
   "source": [
    "df.corr()"
   ]
  },
  {
   "cell_type": "markdown",
   "id": "bc1eb0b1",
   "metadata": {},
   "source": [
    "As is seen from the correlation, the data is highly non-linear. NNs, Bayesian or Tree based models might be a better fit for our purposes. "
   ]
  },
  {
   "cell_type": "code",
   "execution_count": 20,
   "id": "b361ff78",
   "metadata": {},
   "outputs": [],
   "source": [
    "df['TCP_Protocol'].fillna('NaN',inplace=True)"
   ]
  },
  {
   "cell_type": "code",
   "execution_count": 21,
   "id": "27358883",
   "metadata": {},
   "outputs": [
    {
     "data": {
      "text/plain": [
       "TCP                              2914096\n",
       "UDP                              2044697\n",
       "Generic Routing Encapsulation     391808\n",
       "NaN                                20808\n",
       "ICMP                                4849\n",
       "ICMP,UDP                            2291\n",
       "IGMP                                2193\n",
       "IPv6                                1877\n",
       "ICMP,TCP                             181\n",
       "ICMP,ICMP                            181\n",
       "Name: TCP_Protocol, dtype: int64"
      ]
     },
     "execution_count": 21,
     "metadata": {},
     "output_type": "execute_result"
    }
   ],
   "source": [
    "df['TCP_Protocol'].value_counts()"
   ]
  },
  {
   "cell_type": "code",
   "execution_count": 22,
   "id": "f477d778",
   "metadata": {},
   "outputs": [
    {
     "data": {
      "text/html": [
       "<div>\n",
       "<style scoped>\n",
       "    .dataframe tbody tr th:only-of-type {\n",
       "        vertical-align: middle;\n",
       "    }\n",
       "\n",
       "    .dataframe tbody tr th {\n",
       "        vertical-align: top;\n",
       "    }\n",
       "\n",
       "    .dataframe thead th {\n",
       "        text-align: right;\n",
       "    }\n",
       "</style>\n",
       "<table border=\"1\" class=\"dataframe\">\n",
       "  <thead>\n",
       "    <tr style=\"text-align: right;\">\n",
       "      <th></th>\n",
       "      <th>Time</th>\n",
       "      <th>Frame Number</th>\n",
       "      <th>Frame_length</th>\n",
       "      <th>Source_ip</th>\n",
       "      <th>Destination_IP</th>\n",
       "      <th>Source_Port</th>\n",
       "      <th>Destination_Port</th>\n",
       "      <th>SYN</th>\n",
       "      <th>ACK</th>\n",
       "      <th>RST</th>\n",
       "      <th>TTL</th>\n",
       "      <th>TCP_Protocol</th>\n",
       "      <th>Type</th>\n",
       "    </tr>\n",
       "  </thead>\n",
       "  <tbody>\n",
       "    <tr>\n",
       "      <th>62</th>\n",
       "      <td>80.226764</td>\n",
       "      <td>1945644</td>\n",
       "      <td>510</td>\n",
       "      <td>40:f3:08:52:88:48</td>\n",
       "      <td>Alcatel-_70:9b:c7</td>\n",
       "      <td>NaN</td>\n",
       "      <td>NaN</td>\n",
       "      <td>-1</td>\n",
       "      <td>-1</td>\n",
       "      <td>-1</td>\n",
       "      <td>63</td>\n",
       "      <td>Generic Routing Encapsulation</td>\n",
       "      <td>2</td>\n",
       "    </tr>\n",
       "    <tr>\n",
       "      <th>267</th>\n",
       "      <td>80.238629</td>\n",
       "      <td>1945849</td>\n",
       "      <td>106</td>\n",
       "      <td>10.101.31.47</td>\n",
       "      <td>192.168.204.16</td>\n",
       "      <td>NaN</td>\n",
       "      <td>NaN</td>\n",
       "      <td>-1</td>\n",
       "      <td>-1</td>\n",
       "      <td>-1</td>\n",
       "      <td>63</td>\n",
       "      <td>Generic Routing Encapsulation</td>\n",
       "      <td>2</td>\n",
       "    </tr>\n",
       "    <tr>\n",
       "      <th>269</th>\n",
       "      <td>80.238682</td>\n",
       "      <td>1945851</td>\n",
       "      <td>106</td>\n",
       "      <td>10.101.31.37</td>\n",
       "      <td>192.168.204.16</td>\n",
       "      <td>NaN</td>\n",
       "      <td>NaN</td>\n",
       "      <td>-1</td>\n",
       "      <td>-1</td>\n",
       "      <td>-1</td>\n",
       "      <td>63</td>\n",
       "      <td>Generic Routing Encapsulation</td>\n",
       "      <td>2</td>\n",
       "    </tr>\n",
       "    <tr>\n",
       "      <th>271</th>\n",
       "      <td>80.238692</td>\n",
       "      <td>1945853</td>\n",
       "      <td>106</td>\n",
       "      <td>192.168.204.16</td>\n",
       "      <td>10.101.31.47</td>\n",
       "      <td>NaN</td>\n",
       "      <td>NaN</td>\n",
       "      <td>-1</td>\n",
       "      <td>-1</td>\n",
       "      <td>-1</td>\n",
       "      <td>58</td>\n",
       "      <td>Generic Routing Encapsulation</td>\n",
       "      <td>2</td>\n",
       "    </tr>\n",
       "    <tr>\n",
       "      <th>273</th>\n",
       "      <td>80.238760</td>\n",
       "      <td>1945855</td>\n",
       "      <td>106</td>\n",
       "      <td>192.168.204.16</td>\n",
       "      <td>10.101.31.37</td>\n",
       "      <td>NaN</td>\n",
       "      <td>NaN</td>\n",
       "      <td>-1</td>\n",
       "      <td>-1</td>\n",
       "      <td>-1</td>\n",
       "      <td>58</td>\n",
       "      <td>Generic Routing Encapsulation</td>\n",
       "      <td>2</td>\n",
       "    </tr>\n",
       "    <tr>\n",
       "      <th>...</th>\n",
       "      <td>...</td>\n",
       "      <td>...</td>\n",
       "      <td>...</td>\n",
       "      <td>...</td>\n",
       "      <td>...</td>\n",
       "      <td>...</td>\n",
       "      <td>...</td>\n",
       "      <td>...</td>\n",
       "      <td>...</td>\n",
       "      <td>...</td>\n",
       "      <td>...</td>\n",
       "      <td>...</td>\n",
       "      <td>...</td>\n",
       "    </tr>\n",
       "    <tr>\n",
       "      <th>5382789</th>\n",
       "      <td>69.985604</td>\n",
       "      <td>894200</td>\n",
       "      <td>106</td>\n",
       "      <td>10.101.31.12</td>\n",
       "      <td>192.168.204.16</td>\n",
       "      <td>NaN</td>\n",
       "      <td>NaN</td>\n",
       "      <td>-1</td>\n",
       "      <td>-1</td>\n",
       "      <td>-1</td>\n",
       "      <td>63</td>\n",
       "      <td>Generic Routing Encapsulation</td>\n",
       "      <td>0</td>\n",
       "    </tr>\n",
       "    <tr>\n",
       "      <th>5382791</th>\n",
       "      <td>69.985660</td>\n",
       "      <td>894202</td>\n",
       "      <td>106</td>\n",
       "      <td>192.168.204.16</td>\n",
       "      <td>10.101.31.12</td>\n",
       "      <td>NaN</td>\n",
       "      <td>NaN</td>\n",
       "      <td>-1</td>\n",
       "      <td>-1</td>\n",
       "      <td>-1</td>\n",
       "      <td>58</td>\n",
       "      <td>Generic Routing Encapsulation</td>\n",
       "      <td>0</td>\n",
       "    </tr>\n",
       "    <tr>\n",
       "      <th>5382796</th>\n",
       "      <td>69.986115</td>\n",
       "      <td>894207</td>\n",
       "      <td>132</td>\n",
       "      <td>00:f4:b9:1b:ef:9c</td>\n",
       "      <td>Alcatel-_70:9b:c7</td>\n",
       "      <td>NaN</td>\n",
       "      <td>NaN</td>\n",
       "      <td>-1</td>\n",
       "      <td>-1</td>\n",
       "      <td>-1</td>\n",
       "      <td>63</td>\n",
       "      <td>Generic Routing Encapsulation</td>\n",
       "      <td>0</td>\n",
       "    </tr>\n",
       "    <tr>\n",
       "      <th>5382939</th>\n",
       "      <td>69.997365</td>\n",
       "      <td>894350</td>\n",
       "      <td>144</td>\n",
       "      <td>e8:e7:32:70:9b:c7</td>\n",
       "      <td>IntelCor_cd:a9:f1</td>\n",
       "      <td>NaN</td>\n",
       "      <td>NaN</td>\n",
       "      <td>-1</td>\n",
       "      <td>-1</td>\n",
       "      <td>-1</td>\n",
       "      <td>252</td>\n",
       "      <td>Generic Routing Encapsulation</td>\n",
       "      <td>0</td>\n",
       "    </tr>\n",
       "    <tr>\n",
       "      <th>5382946</th>\n",
       "      <td>69.998094</td>\n",
       "      <td>894357</td>\n",
       "      <td>1470</td>\n",
       "      <td>e8:e7:32:70:9b:c7</td>\n",
       "      <td>Apple_d0:32:37</td>\n",
       "      <td>NaN</td>\n",
       "      <td>NaN</td>\n",
       "      <td>-1</td>\n",
       "      <td>-1</td>\n",
       "      <td>-1</td>\n",
       "      <td>252</td>\n",
       "      <td>Generic Routing Encapsulation</td>\n",
       "      <td>0</td>\n",
       "    </tr>\n",
       "  </tbody>\n",
       "</table>\n",
       "<p>391808 rows × 13 columns</p>\n",
       "</div>"
      ],
      "text/plain": [
       "              Time  Frame Number  Frame_length          Source_ip  \\\n",
       "62       80.226764       1945644           510  40:f3:08:52:88:48   \n",
       "267      80.238629       1945849           106       10.101.31.47   \n",
       "269      80.238682       1945851           106       10.101.31.37   \n",
       "271      80.238692       1945853           106     192.168.204.16   \n",
       "273      80.238760       1945855           106     192.168.204.16   \n",
       "...            ...           ...           ...                ...   \n",
       "5382789  69.985604        894200           106       10.101.31.12   \n",
       "5382791  69.985660        894202           106     192.168.204.16   \n",
       "5382796  69.986115        894207           132  00:f4:b9:1b:ef:9c   \n",
       "5382939  69.997365        894350           144  e8:e7:32:70:9b:c7   \n",
       "5382946  69.998094        894357          1470  e8:e7:32:70:9b:c7   \n",
       "\n",
       "            Destination_IP  Source_Port  Destination_Port  SYN  ACK  RST  TTL  \\\n",
       "62       Alcatel-_70:9b:c7          NaN               NaN   -1   -1   -1   63   \n",
       "267         192.168.204.16          NaN               NaN   -1   -1   -1   63   \n",
       "269         192.168.204.16          NaN               NaN   -1   -1   -1   63   \n",
       "271           10.101.31.47          NaN               NaN   -1   -1   -1   58   \n",
       "273           10.101.31.37          NaN               NaN   -1   -1   -1   58   \n",
       "...                    ...          ...               ...  ...  ...  ...  ...   \n",
       "5382789     192.168.204.16          NaN               NaN   -1   -1   -1   63   \n",
       "5382791       10.101.31.12          NaN               NaN   -1   -1   -1   58   \n",
       "5382796  Alcatel-_70:9b:c7          NaN               NaN   -1   -1   -1   63   \n",
       "5382939  IntelCor_cd:a9:f1          NaN               NaN   -1   -1   -1  252   \n",
       "5382946     Apple_d0:32:37          NaN               NaN   -1   -1   -1  252   \n",
       "\n",
       "                          TCP_Protocol  Type  \n",
       "62       Generic Routing Encapsulation     2  \n",
       "267      Generic Routing Encapsulation     2  \n",
       "269      Generic Routing Encapsulation     2  \n",
       "271      Generic Routing Encapsulation     2  \n",
       "273      Generic Routing Encapsulation     2  \n",
       "...                                ...   ...  \n",
       "5382789  Generic Routing Encapsulation     0  \n",
       "5382791  Generic Routing Encapsulation     0  \n",
       "5382796  Generic Routing Encapsulation     0  \n",
       "5382939  Generic Routing Encapsulation     0  \n",
       "5382946  Generic Routing Encapsulation     0  \n",
       "\n",
       "[391808 rows x 13 columns]"
      ]
     },
     "execution_count": 22,
     "metadata": {},
     "output_type": "execute_result"
    }
   ],
   "source": [
    "df[df['TCP_Protocol']==\"Generic Routing Encapsulation\"]"
   ]
  },
  {
   "cell_type": "code",
   "execution_count": 23,
   "id": "48ba1c23",
   "metadata": {},
   "outputs": [],
   "source": [
    "df=df[df['TCP_Protocol']!='IPv6']"
   ]
  },
  {
   "cell_type": "code",
   "execution_count": 24,
   "id": "8bdbf9f7",
   "metadata": {},
   "outputs": [],
   "source": [
    "replacements={\n",
    "    'ICMP,UDP':'ICMP',\n",
    "    'ICMP,TCP':'ICMP',\n",
    "    'ICMP,ICMP':'ICMP'\n",
    "}\n",
    "\n",
    "df['TCP_Protocol'].replace(replacements,inplace=True)"
   ]
  },
  {
   "cell_type": "code",
   "execution_count": 25,
   "id": "5070dc81",
   "metadata": {},
   "outputs": [],
   "source": [
    "df['Source_Port'].fillna(-1,inplace=True)\n",
    "df['Destination_Port'].fillna(-1,inplace=True)"
   ]
  },
  {
   "cell_type": "code",
   "execution_count": 26,
   "id": "8d244e68",
   "metadata": {},
   "outputs": [],
   "source": [
    "df['TTL'].fillna(-1,inplace=True)"
   ]
  },
  {
   "cell_type": "code",
   "execution_count": 27,
   "id": "ecd140e4",
   "metadata": {},
   "outputs": [
    {
     "data": {
      "text/plain": [
       "Time                0\n",
       "Frame Number        0\n",
       "Frame_length        0\n",
       "Source_ip           0\n",
       "Destination_IP      0\n",
       "Source_Port         0\n",
       "Destination_Port    0\n",
       "SYN                 0\n",
       "ACK                 0\n",
       "RST                 0\n",
       "TTL                 0\n",
       "TCP_Protocol        0\n",
       "Type                0\n",
       "dtype: int64"
      ]
     },
     "execution_count": 27,
     "metadata": {},
     "output_type": "execute_result"
    }
   ],
   "source": [
    "df.isnull().sum()"
   ]
  },
  {
   "cell_type": "code",
   "execution_count": 28,
   "id": "f0f6cf37",
   "metadata": {},
   "outputs": [
    {
     "data": {
      "text/html": [
       "<div>\n",
       "<style scoped>\n",
       "    .dataframe tbody tr th:only-of-type {\n",
       "        vertical-align: middle;\n",
       "    }\n",
       "\n",
       "    .dataframe tbody tr th {\n",
       "        vertical-align: top;\n",
       "    }\n",
       "\n",
       "    .dataframe thead th {\n",
       "        text-align: right;\n",
       "    }\n",
       "</style>\n",
       "<table border=\"1\" class=\"dataframe\">\n",
       "  <thead>\n",
       "    <tr style=\"text-align: right;\">\n",
       "      <th></th>\n",
       "      <th>Time</th>\n",
       "      <th>Frame Number</th>\n",
       "      <th>Frame_length</th>\n",
       "      <th>Source_Port</th>\n",
       "      <th>Destination_Port</th>\n",
       "      <th>SYN</th>\n",
       "      <th>ACK</th>\n",
       "      <th>RST</th>\n",
       "      <th>Type</th>\n",
       "    </tr>\n",
       "  </thead>\n",
       "  <tbody>\n",
       "    <tr>\n",
       "      <th>Time</th>\n",
       "      <td>1.000000</td>\n",
       "      <td>0.982472</td>\n",
       "      <td>0.005476</td>\n",
       "      <td>0.071239</td>\n",
       "      <td>0.070505</td>\n",
       "      <td>0.103895</td>\n",
       "      <td>0.112989</td>\n",
       "      <td>0.111312</td>\n",
       "      <td>-0.066291</td>\n",
       "    </tr>\n",
       "    <tr>\n",
       "      <th>Frame Number</th>\n",
       "      <td>0.982472</td>\n",
       "      <td>1.000000</td>\n",
       "      <td>0.012205</td>\n",
       "      <td>0.085075</td>\n",
       "      <td>0.084915</td>\n",
       "      <td>0.134791</td>\n",
       "      <td>0.135814</td>\n",
       "      <td>0.137551</td>\n",
       "      <td>-0.031613</td>\n",
       "    </tr>\n",
       "    <tr>\n",
       "      <th>Frame_length</th>\n",
       "      <td>0.005476</td>\n",
       "      <td>0.012205</td>\n",
       "      <td>1.000000</td>\n",
       "      <td>-0.108881</td>\n",
       "      <td>0.313188</td>\n",
       "      <td>0.108504</td>\n",
       "      <td>0.181616</td>\n",
       "      <td>0.156402</td>\n",
       "      <td>-0.018700</td>\n",
       "    </tr>\n",
       "    <tr>\n",
       "      <th>Source_Port</th>\n",
       "      <td>0.071239</td>\n",
       "      <td>0.085075</td>\n",
       "      <td>-0.108881</td>\n",
       "      <td>1.000000</td>\n",
       "      <td>-0.287315</td>\n",
       "      <td>0.517549</td>\n",
       "      <td>0.543932</td>\n",
       "      <td>0.551742</td>\n",
       "      <td>0.012327</td>\n",
       "    </tr>\n",
       "    <tr>\n",
       "      <th>Destination_Port</th>\n",
       "      <td>0.070505</td>\n",
       "      <td>0.084915</td>\n",
       "      <td>0.313188</td>\n",
       "      <td>-0.287315</td>\n",
       "      <td>1.000000</td>\n",
       "      <td>0.461780</td>\n",
       "      <td>0.556914</td>\n",
       "      <td>0.529273</td>\n",
       "      <td>0.004554</td>\n",
       "    </tr>\n",
       "    <tr>\n",
       "      <th>SYN</th>\n",
       "      <td>0.103895</td>\n",
       "      <td>0.134791</td>\n",
       "      <td>0.108504</td>\n",
       "      <td>0.517549</td>\n",
       "      <td>0.461780</td>\n",
       "      <td>1.000000</td>\n",
       "      <td>0.882624</td>\n",
       "      <td>0.941264</td>\n",
       "      <td>0.088064</td>\n",
       "    </tr>\n",
       "    <tr>\n",
       "      <th>ACK</th>\n",
       "      <td>0.112989</td>\n",
       "      <td>0.135814</td>\n",
       "      <td>0.181616</td>\n",
       "      <td>0.543932</td>\n",
       "      <td>0.556914</td>\n",
       "      <td>0.882624</td>\n",
       "      <td>1.000000</td>\n",
       "      <td>0.976438</td>\n",
       "      <td>0.010364</td>\n",
       "    </tr>\n",
       "    <tr>\n",
       "      <th>RST</th>\n",
       "      <td>0.111312</td>\n",
       "      <td>0.137551</td>\n",
       "      <td>0.156402</td>\n",
       "      <td>0.551742</td>\n",
       "      <td>0.529273</td>\n",
       "      <td>0.941264</td>\n",
       "      <td>0.976438</td>\n",
       "      <td>1.000000</td>\n",
       "      <td>0.038798</td>\n",
       "    </tr>\n",
       "    <tr>\n",
       "      <th>Type</th>\n",
       "      <td>-0.066291</td>\n",
       "      <td>-0.031613</td>\n",
       "      <td>-0.018700</td>\n",
       "      <td>0.012327</td>\n",
       "      <td>0.004554</td>\n",
       "      <td>0.088064</td>\n",
       "      <td>0.010364</td>\n",
       "      <td>0.038798</td>\n",
       "      <td>1.000000</td>\n",
       "    </tr>\n",
       "  </tbody>\n",
       "</table>\n",
       "</div>"
      ],
      "text/plain": [
       "                      Time  Frame Number  Frame_length  Source_Port  \\\n",
       "Time              1.000000      0.982472      0.005476     0.071239   \n",
       "Frame Number      0.982472      1.000000      0.012205     0.085075   \n",
       "Frame_length      0.005476      0.012205      1.000000    -0.108881   \n",
       "Source_Port       0.071239      0.085075     -0.108881     1.000000   \n",
       "Destination_Port  0.070505      0.084915      0.313188    -0.287315   \n",
       "SYN               0.103895      0.134791      0.108504     0.517549   \n",
       "ACK               0.112989      0.135814      0.181616     0.543932   \n",
       "RST               0.111312      0.137551      0.156402     0.551742   \n",
       "Type             -0.066291     -0.031613     -0.018700     0.012327   \n",
       "\n",
       "                  Destination_Port       SYN       ACK       RST      Type  \n",
       "Time                      0.070505  0.103895  0.112989  0.111312 -0.066291  \n",
       "Frame Number              0.084915  0.134791  0.135814  0.137551 -0.031613  \n",
       "Frame_length              0.313188  0.108504  0.181616  0.156402 -0.018700  \n",
       "Source_Port              -0.287315  0.517549  0.543932  0.551742  0.012327  \n",
       "Destination_Port          1.000000  0.461780  0.556914  0.529273  0.004554  \n",
       "SYN                       0.461780  1.000000  0.882624  0.941264  0.088064  \n",
       "ACK                       0.556914  0.882624  1.000000  0.976438  0.010364  \n",
       "RST                       0.529273  0.941264  0.976438  1.000000  0.038798  \n",
       "Type                      0.004554  0.088064  0.010364  0.038798  1.000000  "
      ]
     },
     "execution_count": 28,
     "metadata": {},
     "output_type": "execute_result"
    }
   ],
   "source": [
    "df.corr()"
   ]
  },
  {
   "cell_type": "code",
   "execution_count": 29,
   "id": "fb2b609d",
   "metadata": {},
   "outputs": [
    {
     "name": "stderr",
     "output_type": "stream",
     "text": [
      "c:\\users\\ashwin\\miniconda3\\lib\\site-packages\\seaborn\\_decorators.py:36: FutureWarning: Pass the following variable as a keyword arg: x. From version 0.12, the only valid positional argument will be `data`, and passing other arguments without an explicit keyword will result in an error or misinterpretation.\n",
      "  warnings.warn(\n"
     ]
    },
    {
     "data": {
      "text/plain": [
       "<AxesSubplot:xlabel='Type', ylabel='count'>"
      ]
     },
     "execution_count": 29,
     "metadata": {},
     "output_type": "execute_result"
    },
    {
     "data": {
      "image/png": "[encoded data removed]",
      "text/plain": [
       "<Figure size 432x288 with 1 Axes>"
      ]
     },
     "metadata": {
      "needs_background": "light"
     },
     "output_type": "display_data"
    }
   ],
   "source": [
    "sns.countplot(df['Type'])"
   ]
  },
  {
   "cell_type": "code",
   "execution_count": 30,
   "id": "d5ea22d6",
   "metadata": {},
   "outputs": [],
   "source": [
    "df['Has_Port']=df['Source_Port'].apply(lambda x:1 if x>0 else 0)"
   ]
  },
  {
   "cell_type": "code",
   "execution_count": 31,
   "id": "523298a8",
   "metadata": {},
   "outputs": [],
   "source": [
    "df.drop(columns=['Source_Port','Destination_Port'],inplace=True)"
   ]
  },
  {
   "cell_type": "code",
   "execution_count": 32,
   "id": "75afeb0b",
   "metadata": {},
   "outputs": [],
   "source": [
    "df['Has_Protocol']=df['TCP_Protocol'].apply(lambda x:1 if x!=\"NaN\" else 0)"
   ]
  },
  {
   "cell_type": "code",
   "execution_count": 33,
   "id": "91f09f02",
   "metadata": {},
   "outputs": [],
   "source": [
    "df['TCP_Protocol']=df['TCP_Protocol'].factorize()[0]"
   ]
  },
  {
   "cell_type": "code",
   "execution_count": 34,
   "id": "73be3e64",
   "metadata": {},
   "outputs": [],
   "source": [
    "from sklearn.model_selection import train_test_split"
   ]
  },
  {
   "cell_type": "code",
   "execution_count": 50,
   "id": "fcb759fe",
   "metadata": {},
   "outputs": [],
   "source": [
    "X_train, X_test, y_train, y_test =train_test_split(df.drop(columns=['Time','Frame Number','Source_ip','Destination_IP','TTL']),df['Type'],test_size=0.3)"
   ]
  },
  {
   "cell_type": "code",
   "execution_count": 95,
   "id": "46ffc3d6",
   "metadata": {},
   "outputs": [
    {
     "data": {
      "text/html": [
       "<div>\n",
       "<style scoped>\n",
       "    .dataframe tbody tr th:only-of-type {\n",
       "        vertical-align: middle;\n",
       "    }\n",
       "\n",
       "    .dataframe tbody tr th {\n",
       "        vertical-align: top;\n",
       "    }\n",
       "\n",
       "    .dataframe thead th {\n",
       "        text-align: right;\n",
       "    }\n",
       "</style>\n",
       "<table border=\"1\" class=\"dataframe\">\n",
       "  <thead>\n",
       "    <tr style=\"text-align: right;\">\n",
       "      <th></th>\n",
       "      <th>Frame_length</th>\n",
       "      <th>SYN</th>\n",
       "      <th>ACK</th>\n",
       "      <th>RST</th>\n",
       "      <th>TCP_Protocol</th>\n",
       "      <th>Type</th>\n",
       "      <th>Has_Port</th>\n",
       "      <th>Has_Protocol</th>\n",
       "    </tr>\n",
       "  </thead>\n",
       "  <tbody>\n",
       "    <tr>\n",
       "      <th>3957763</th>\n",
       "      <td>64</td>\n",
       "      <td>-1</td>\n",
       "      <td>-1</td>\n",
       "      <td>-1</td>\n",
       "      <td>1</td>\n",
       "      <td>1</td>\n",
       "      <td>0</td>\n",
       "      <td>1</td>\n",
       "    </tr>\n",
       "    <tr>\n",
       "      <th>1027981</th>\n",
       "      <td>64</td>\n",
       "      <td>0</td>\n",
       "      <td>1</td>\n",
       "      <td>0</td>\n",
       "      <td>0</td>\n",
       "      <td>2</td>\n",
       "      <td>1</td>\n",
       "      <td>1</td>\n",
       "    </tr>\n",
       "    <tr>\n",
       "      <th>1140719</th>\n",
       "      <td>64</td>\n",
       "      <td>0</td>\n",
       "      <td>1</td>\n",
       "      <td>0</td>\n",
       "      <td>0</td>\n",
       "      <td>2</td>\n",
       "      <td>1</td>\n",
       "      <td>1</td>\n",
       "    </tr>\n",
       "    <tr>\n",
       "      <th>2821227</th>\n",
       "      <td>70</td>\n",
       "      <td>0</td>\n",
       "      <td>1</td>\n",
       "      <td>0</td>\n",
       "      <td>0</td>\n",
       "      <td>0</td>\n",
       "      <td>1</td>\n",
       "      <td>1</td>\n",
       "    </tr>\n",
       "    <tr>\n",
       "      <th>3296427</th>\n",
       "      <td>66</td>\n",
       "      <td>1</td>\n",
       "      <td>1</td>\n",
       "      <td>0</td>\n",
       "      <td>0</td>\n",
       "      <td>1</td>\n",
       "      <td>1</td>\n",
       "      <td>1</td>\n",
       "    </tr>\n",
       "    <tr>\n",
       "      <th>...</th>\n",
       "      <td>...</td>\n",
       "      <td>...</td>\n",
       "      <td>...</td>\n",
       "      <td>...</td>\n",
       "      <td>...</td>\n",
       "      <td>...</td>\n",
       "      <td>...</td>\n",
       "      <td>...</td>\n",
       "    </tr>\n",
       "    <tr>\n",
       "      <th>3281302</th>\n",
       "      <td>1458</td>\n",
       "      <td>0</td>\n",
       "      <td>1</td>\n",
       "      <td>0</td>\n",
       "      <td>0</td>\n",
       "      <td>1</td>\n",
       "      <td>1</td>\n",
       "      <td>1</td>\n",
       "    </tr>\n",
       "    <tr>\n",
       "      <th>4973575</th>\n",
       "      <td>71</td>\n",
       "      <td>0</td>\n",
       "      <td>1</td>\n",
       "      <td>0</td>\n",
       "      <td>0</td>\n",
       "      <td>0</td>\n",
       "      <td>1</td>\n",
       "      <td>1</td>\n",
       "    </tr>\n",
       "    <tr>\n",
       "      <th>759140</th>\n",
       "      <td>1500</td>\n",
       "      <td>0</td>\n",
       "      <td>1</td>\n",
       "      <td>0</td>\n",
       "      <td>0</td>\n",
       "      <td>2</td>\n",
       "      <td>1</td>\n",
       "      <td>1</td>\n",
       "    </tr>\n",
       "    <tr>\n",
       "      <th>5021302</th>\n",
       "      <td>1396</td>\n",
       "      <td>-1</td>\n",
       "      <td>-1</td>\n",
       "      <td>-1</td>\n",
       "      <td>1</td>\n",
       "      <td>0</td>\n",
       "      <td>0</td>\n",
       "      <td>1</td>\n",
       "    </tr>\n",
       "    <tr>\n",
       "      <th>5285706</th>\n",
       "      <td>177</td>\n",
       "      <td>0</td>\n",
       "      <td>1</td>\n",
       "      <td>0</td>\n",
       "      <td>0</td>\n",
       "      <td>0</td>\n",
       "      <td>1</td>\n",
       "      <td>1</td>\n",
       "    </tr>\n",
       "  </tbody>\n",
       "</table>\n",
       "<p>3766772 rows × 8 columns</p>\n",
       "</div>"
      ],
      "text/plain": [
       "         Frame_length  SYN  ACK  RST  TCP_Protocol  Type  Has_Port  \\\n",
       "3957763            64   -1   -1   -1             1     1         0   \n",
       "1027981            64    0    1    0             0     2         1   \n",
       "1140719            64    0    1    0             0     2         1   \n",
       "2821227            70    0    1    0             0     0         1   \n",
       "3296427            66    1    1    0             0     1         1   \n",
       "...               ...  ...  ...  ...           ...   ...       ...   \n",
       "3281302          1458    0    1    0             0     1         1   \n",
       "4973575            71    0    1    0             0     0         1   \n",
       "759140           1500    0    1    0             0     2         1   \n",
       "5021302          1396   -1   -1   -1             1     0         0   \n",
       "5285706           177    0    1    0             0     0         1   \n",
       "\n",
       "         Has_Protocol  \n",
       "3957763             1  \n",
       "1027981             1  \n",
       "1140719             1  \n",
       "2821227             1  \n",
       "3296427             1  \n",
       "...               ...  \n",
       "3281302             1  \n",
       "4973575             1  \n",
       "759140              1  \n",
       "5021302             1  \n",
       "5285706             1  \n",
       "\n",
       "[3766772 rows x 8 columns]"
      ]
     },
     "execution_count": 95,
     "metadata": {},
     "output_type": "execute_result"
    }
   ],
   "source": [
    "X_train"
   ]
  },
  {
   "cell_type": "code",
   "execution_count": 107,
   "id": "78cfb203",
   "metadata": {},
   "outputs": [],
   "source": [
    "import tensorflow as tf\n",
    "from tensorflow.keras import layers\n",
    "from tensorflow.keras.callbacks import EarlyStopping"
   ]
  },
  {
   "cell_type": "code",
   "execution_count": 108,
   "id": "ff8f8b49",
   "metadata": {},
   "outputs": [],
   "source": [
    "model=tf.keras.Sequential()\n",
    "model.add(layers.Dense(15,input_shape=(X_train.shape[1],),activation='relu'))\n",
    "model.add(layers.Dense(3,activation='softmax'))"
   ]
  },
  {
   "cell_type": "code",
   "execution_count": 109,
   "id": "c102882e",
   "metadata": {},
   "outputs": [],
   "source": [
    "model.compile(optimizer='adam',loss='sparse_categorical_crossentropy',metrics=['accuracy'])\n",
    "es=EarlyStopping()"
   ]
  },
  {
   "cell_type": "code",
   "execution_count": 121,
   "id": "4585fff3",
   "metadata": {},
   "outputs": [
    {
     "name": "stdout",
     "output_type": "stream",
     "text": [
      "Epoch 1/10\n",
      "41200/41200 [==============================] - 19s 461us/step - loss: 0.0223 - accuracy: 0.9970 - val_loss: 3.6699e-04 - val_accuracy: 1.0000\n",
      "Epoch 2/10\n",
      "41200/41200 [==============================] - 19s 468us/step - loss: 0.0160 - accuracy: 0.9983 - val_loss: 1.8319e-04 - val_accuracy: 1.0000\n",
      "Epoch 3/10\n",
      "41200/41200 [==============================] - 20s 477us/step - loss: 0.0115 - accuracy: 0.9989 - val_loss: 1.7082e-04 - val_accuracy: 1.0000\n",
      "Epoch 4/10\n",
      "41200/41200 [==============================] - 19s 468us/step - loss: 0.0085 - accuracy: 0.9993 - val_loss: 1.9712e-04 - val_accuracy: 1.0000\n",
      "Epoch 5/10\n",
      "41200/41200 [==============================] - 19s 468us/step - loss: 0.0069 - accuracy: 0.9994 - val_loss: 2.4927e-04 - val_accuracy: 1.0000\n",
      "Epoch 6/10\n",
      "41200/41200 [==============================] - 19s 469us/step - loss: 0.0023 - accuracy: 0.9997 - val_loss: 3.1053e-05 - val_accuracy: 1.0000\n",
      "Epoch 7/10\n",
      "41200/41200 [==============================] - 19s 470us/step - loss: 0.0016 - accuracy: 0.9998 - val_loss: 2.7131e-05 - val_accuracy: 1.0000\n",
      "Epoch 8/10\n",
      "41200/41200 [==============================] - 19s 468us/step - loss: 0.0025 - accuracy: 0.9998 - val_loss: 5.7181e-06 - val_accuracy: 1.0000\n",
      "Epoch 9/10\n",
      "41200/41200 [==============================] - 19s 468us/step - loss: 0.0020 - accuracy: 0.9998 - val_loss: 8.4936e-05 - val_accuracy: 1.0000\n",
      "Epoch 10/10\n",
      "41200/41200 [==============================] - 19s 468us/step - loss: 0.0022 - accuracy: 0.9997 - val_loss: 4.8348e-05 - val_accuracy: 1.0000\n"
     ]
    }
   ],
   "source": [
    "history=model.fit(X_train,y_train,validation_split=0.3,epochs=10,batch_size=64)"
   ]
  },
  {
   "cell_type": "code",
   "execution_count": 123,
   "id": "9041eeb6",
   "metadata": {},
   "outputs": [
    {
     "data": {
      "text/plain": [
       "{'loss': [0.022297542542219162,\n",
       "  0.015964973717927933,\n",
       "  0.011463274247944355,\n",
       "  0.008527169935405254,\n",
       "  0.00694669596850872,\n",
       "  0.0022810567170381546,\n",
       "  0.0015597172314301133,\n",
       "  0.002532297745347023,\n",
       "  0.002016876358538866,\n",
       "  0.0021710034925490618],\n",
       " 'accuracy': [0.9970334768295288,\n",
       "  0.998268723487854,\n",
       "  0.9988633394241333,\n",
       "  0.9993207454681396,\n",
       "  0.9994170665740967,\n",
       "  0.9996791481971741,\n",
       "  0.9998229146003723,\n",
       "  0.9997884035110474,\n",
       "  0.9997788667678833,\n",
       "  0.9997360110282898],\n",
       " 'val_loss': [0.00036698541953228414,\n",
       "  0.00018318618822377175,\n",
       "  0.00017082160047721118,\n",
       "  0.00019712002540472895,\n",
       "  0.00024927075719460845,\n",
       "  3.105296491412446e-05,\n",
       "  2.7131225579068996e-05,\n",
       "  5.7180586736649275e-06,\n",
       "  8.493626955896616e-05,\n",
       "  4.8347574193030596e-05],\n",
       " 'val_accuracy': [0.9999991059303284,\n",
       "  0.9999991059303284,\n",
       "  0.9999982118606567,\n",
       "  0.9999991059303284,\n",
       "  1.0,\n",
       "  1.0,\n",
       "  1.0,\n",
       "  0.9999991059303284,\n",
       "  1.0,\n",
       "  0.99998939037323]}"
      ]
     },
     "execution_count": 123,
     "metadata": {},
     "output_type": "execute_result"
    }
   ],
   "source": [
    "history.history"
   ]
  },
  {
   "cell_type": "code",
   "execution_count": 124,
   "id": "c5edc198",
   "metadata": {},
   "outputs": [
    {
     "data": {
      "text/plain": [
       "<matplotlib.legend.Legend at 0x215b08714c0>"
      ]
     },
     "execution_count": 124,
     "metadata": {},
     "output_type": "execute_result"
    },
    {
     "data": {
      "image/png": "[encoded data removed]",
      "text/plain": [
       "<Figure size 432x288 with 1 Axes>"
      ]
     },
     "metadata": {
      "needs_background": "light"
     },
     "output_type": "display_data"
    }
   ],
   "source": [
    "plt.plot(history.history['loss'])\n",
    "plt.plot(history.history['val_loss'])\n",
    "plt.legend(['train','validation'])"
   ]
  },
  {
   "cell_type": "code",
   "execution_count": 126,
   "id": "3922613b",
   "metadata": {},
   "outputs": [
    {
     "data": {
      "text/plain": [
       "<matplotlib.legend.Legend at 0x215c8b827f0>"
      ]
     },
     "execution_count": 126,
     "metadata": {},
     "output_type": "execute_result"
    },
    {
     "data": {
      "image/png": "[encoded data removed]",
      "text/plain": [
       "<Figure size 432x288 with 1 Axes>"
      ]
     },
     "metadata": {
      "needs_background": "light"
     },
     "output_type": "display_data"
    }
   ],
   "source": [
    "plt.plot(history.history['accuracy'])\n",
    "plt.plot(history.history['val_accuracy'])\n",
    "plt.legend(['train','validation'])"
   ]
  },
  {
   "cell_type": "code",
   "execution_count": 125,
   "id": "59dadc97",
   "metadata": {},
   "outputs": [
    {
     "name": "stdout",
     "output_type": "stream",
     "text": [
      "50448/50448 [==============================] - 16s 325us/step - loss: 5.3331e-05 - accuracy: 1.0000\n"
     ]
    },
    {
     "data": {
      "text/plain": [
       "[5.333139415597543e-05, 0.9999857544898987]"
      ]
     },
     "execution_count": 125,
     "metadata": {},
     "output_type": "execute_result"
    }
   ],
   "source": [
    "model.evaluate(X_test,y_test)"
   ]
  },
  {
   "cell_type": "code",
   "execution_count": 114,
   "id": "ccfd78d2",
   "metadata": {},
   "outputs": [],
   "source": [
    "from sklearn.model_selection import RepeatedKFold,cross_val_score"
   ]
  },
  {
   "cell_type": "code",
   "execution_count": 115,
   "id": "0e81c0ab",
   "metadata": {},
   "outputs": [],
   "source": [
    "kfold=RepeatedKFold(n_splits=5,n_repeats=1,random_state=42)"
   ]
  },
  {
   "cell_type": "code",
   "execution_count": 116,
   "id": "089a9501",
   "metadata": {},
   "outputs": [],
   "source": [
    "def buildModel():\n",
    "    model=tf.keras.Sequential()\n",
    "    model.add(layers.Dense(15,input_shape=(X_train.shape[1],),activation='relu'))\n",
    "    model.add(layers.Dense(3,activation='softmax'))\n",
    "    model.compile(optimizer='adam',loss='sparse_categorical_crossentropy',metrics=['accuracy'])\n",
    "    return (model)\n",
    "    "
   ]
  },
  {
   "cell_type": "code",
   "execution_count": 117,
   "id": "c925b337",
   "metadata": {},
   "outputs": [],
   "source": [
    "from tensorflow.keras.wrappers.scikit_learn import KerasClassifier\n",
    "\n",
    "estimator=KerasClassifier(build_fn=buildModel,validation_split=0.3,epochs=5,batch_size=64)"
   ]
  },
  {
   "cell_type": "code",
   "execution_count": 119,
   "id": "2926f77d",
   "metadata": {},
   "outputs": [
    {
     "name": "stdout",
     "output_type": "stream",
     "text": [
      "Epoch 1/5\n",
      "32960/32960 [==============================] - 15s 455us/step - loss: 0.2095 - accuracy: 0.9726 - val_loss: 9.2206e-04 - val_accuracy: 1.0000\n",
      "Epoch 2/5\n",
      "32960/32960 [==============================] - 15s 459us/step - loss: 0.0448 - accuracy: 0.9955 - val_loss: 6.3733e-04 - val_accuracy: 0.9999\n",
      "Epoch 3/5\n",
      "32960/32960 [==============================] - 15s 455us/step - loss: 0.0273 - accuracy: 0.9976 - val_loss: 0.0016 - val_accuracy: 0.9997\n",
      "Epoch 4/5\n",
      "32960/32960 [==============================] - 15s 463us/step - loss: 0.0098 - accuracy: 0.9989 - val_loss: 8.2762e-05 - val_accuracy: 1.0000\n",
      "Epoch 5/5\n",
      "32960/32960 [==============================] - 15s 460us/step - loss: 0.0061 - accuracy: 0.9993 - val_loss: 4.3154e-05 - val_accuracy: 1.0000\n",
      "Epoch 1/5\n",
      "32960/32960 [==============================] - 16s 464us/step - loss: 0.4529 - accuracy: 0.9558 - val_loss: 0.0860 - val_accuracy: 0.9881\n",
      "Epoch 2/5\n",
      "32960/32960 [==============================] - 15s 461us/step - loss: 0.0732 - accuracy: 0.9908 - val_loss: 0.0011 - val_accuracy: 0.9998\n",
      "Epoch 3/5\n",
      "32960/32960 [==============================] - 15s 459us/step - loss: 0.0410 - accuracy: 0.9963 - val_loss: 1.0611e-04 - val_accuracy: 1.0000\n",
      "Epoch 4/5\n",
      "32960/32960 [==============================] - 15s 460us/step - loss: 0.0215 - accuracy: 0.9985 - val_loss: 4.3486e-05 - val_accuracy: 1.0000\n",
      "Epoch 5/5\n",
      "32960/32960 [==============================] - 15s 461us/step - loss: 0.0250 - accuracy: 0.9984 - val_loss: 3.7928e-05 - val_accuracy: 1.0000\n",
      "Epoch 1/5\n",
      "32960/32960 [==============================] - 16s 478us/step - loss: 0.2225 - accuracy: 0.9681 - val_loss: 8.8113e-04 - val_accuracy: 1.0000\n",
      "Epoch 2/5\n",
      "32960/32960 [==============================] - 15s 463us/step - loss: 0.0370 - accuracy: 0.9959 - val_loss: 1.4958e-04 - val_accuracy: 1.0000\n",
      "Epoch 3/5\n",
      "32960/32960 [==============================] - 15s 458us/step - loss: 0.0166 - accuracy: 0.9984 - val_loss: 8.5981e-05 - val_accuracy: 1.0000\n",
      "Epoch 4/5\n",
      "32960/32960 [==============================] - 15s 458us/step - loss: 0.0095 - accuracy: 0.9990 - val_loss: 2.9845e-04 - val_accuracy: 1.0000\n",
      "Epoch 5/5\n",
      "32960/32960 [==============================] - 15s 460us/step - loss: 0.0053 - accuracy: 0.9993 - val_loss: 3.5506e-05 - val_accuracy: 1.0000\n",
      "Epoch 1/5\n",
      "32960/32960 [==============================] - 15s 454us/step - loss: 0.2163 - accuracy: 0.9379 - val_loss: 0.0019 - val_accuracy: 1.0000\n",
      "Epoch 2/5\n",
      "32960/32960 [==============================] - 15s 453us/step - loss: 0.0178 - accuracy: 0.9976 - val_loss: 2.3498e-04 - val_accuracy: 1.0000\n",
      "Epoch 3/5\n",
      "32960/32960 [==============================] - 15s 451us/step - loss: 0.0082 - accuracy: 0.9991 - val_loss: 3.5114e-04 - val_accuracy: 1.0000\n",
      "Epoch 4/5\n",
      "32960/32960 [==============================] - 15s 453us/step - loss: 0.0113 - accuracy: 0.9989 - val_loss: 4.6651e-05 - val_accuracy: 1.0000\n",
      "Epoch 5/5\n",
      "32960/32960 [==============================] - 15s 453us/step - loss: 0.0071 - accuracy: 0.9993 - val_loss: 7.4696e-05 - val_accuracy: 1.0000\n",
      "Epoch 1/5\n",
      "32960/32960 [==============================] - 16s 464us/step - loss: 0.1722 - accuracy: 0.9636 - val_loss: 0.0022 - val_accuracy: 1.0000\n",
      "Epoch 2/5\n",
      "32960/32960 [==============================] - 15s 464us/step - loss: 0.0411 - accuracy: 0.9953 - val_loss: 0.1925 - val_accuracy: 0.9781\n",
      "Epoch 3/5\n",
      "32960/32960 [==============================] - 15s 459us/step - loss: 0.0197 - accuracy: 0.9983 - val_loss: 1.4322e-04 - val_accuracy: 1.0000\n",
      "Epoch 4/5\n",
      "32960/32960 [==============================] - 15s 459us/step - loss: 0.0116 - accuracy: 0.9990 - val_loss: 1.3151e-04 - val_accuracy: 1.0000\n",
      "Epoch 5/5\n",
      "32960/32960 [==============================] - 15s 455us/step - loss: 0.0047 - accuracy: 0.9993 - val_loss: 1.7226e-04 - val_accuracy: 1.0000\n"
     ]
    }
   ],
   "source": [
    "results=cross_val_score(estimator,X_train,y_train,scoring='accuracy',cv=kfold)"
   ]
  },
  {
   "cell_type": "code",
   "execution_count": 122,
   "id": "1ffacf7e",
   "metadata": {},
   "outputs": [
    {
     "data": {
      "text/plain": [
       "0.9999962832881559"
      ]
     },
     "execution_count": 122,
     "metadata": {},
     "output_type": "execute_result"
    }
   ],
   "source": [
    "results.mean()"
   ]
  },
  {
   "cell_type": "code",
   "execution_count": null,
   "id": "e9e775ef",
   "metadata": {},
   "outputs": [],
   "source": []
  }
 ],
 "metadata": {
  "kernelspec": {
   "display_name": "Python 3 (ipykernel)",
   "language": "python",
   "name": "python3"
  },
  "language_info": {
   "codemirror_mode": {
    "name": "ipython",
    "version": 3
   },
   "file_extension": ".py",
   "mimetype": "text/x-python",
   "name": "python",
   "nbconvert_exporter": "python",
   "pygments_lexer": "ipython3",
   "version": "3.9.5"
  }
 },
 "nbformat": 4,
 "nbformat_minor": 5
}
